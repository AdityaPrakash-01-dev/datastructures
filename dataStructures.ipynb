{
  "nbformat": 4,
  "nbformat_minor": 0,
  "metadata": {
    "colab": {
      "provenance": []
    },
    "kernelspec": {
      "name": "python3",
      "display_name": "Python 3"
    },
    "language_info": {
      "name": "python"
    }
  },
  "cells": [
    {
      "cell_type": "markdown",
      "source": [
        "#Theory"
      ],
      "metadata": {
        "id": "WKauT_OCGLEL"
      }
    },
    {
      "cell_type": "markdown",
      "source": [
        "###Q1 What are data structures, and why are they important?\n",
        "\n",
        "  Data structures are specialized ways of organizing and storing data in a computer so that they can be accessed and used efficiently. They define the relationship between data elements and the operations that can be performed on them\n",
        "  \n",
        "  Data structures are crucial for several reasons:\n",
        "\n",
        "- Efficiency: Choosing the right data structure can significantly impact the performance of your code. Certain data structures are optimized for specific operations like searching, sorting, or inserting data. By using an appropriate data structure, you can make your algorithms faster and more efficient.\n",
        "\n",
        "- Organization: Data structures provide a way to organize data in a logical and structured manner. This organization makes it easier to understand, manage, and manipulate the data.\n",
        "\n",
        "- Reusability: Well-designed data structures can be reused in different parts of your program or even in other projects. This reusability saves time and effort.\n"
      ],
      "metadata": {
        "id": "i_GGgSFsGOEq"
      }
    },
    {
      "cell_type": "markdown",
      "source": [
        "###Q2 Explain the difference between mutable and immutable data types with examples\n",
        "\n",
        "Mutable Datatypes - These are data that can be modified on any change which means can be modified in future\n",
        "\n",
        "Examples - Lists, Dictionaries, sets\n",
        "\n",
        "Immutable datatypes - These are data that cannot be modified on any change which means cannot be modified in future\n",
        "\n",
        "Examples - Tuples"
      ],
      "metadata": {
        "id": "z6b8DHpVGx7U"
      }
    },
    {
      "cell_type": "markdown",
      "source": [
        "###Q3 What are the main differences between lists and tuples in Python ?\n",
        "Both Lists and tuples are the heterogenous representation of the data\n",
        "\n",
        "But,the main difference between the lists and tuples is the lists can be updated even by appending the elements or by the accessing particular element and modifiying it\n",
        "\n",
        "Whereas,tuples cannot be updated once they are formed they are fixed\n",
        "\n",
        "###Q4 Describe how dictionaries store data ?\n",
        "\n",
        "   Dictionaries in Python (and many other programming languages) use a data structure called a hash table to store data. Here's a breakdown of how it works:\n",
        "\n",
        "- Key-Value Pairs: Dictionaries store data in key-value pairs. Each key is unique and associated with a corresponding value. Think of it like a real-world dictionary where words (keys) are associated with their definitions (values).\n",
        "\n",
        "- Hash Function: When you insert a key-value pair into a dictionary, a hash function is applied to the key. This function generates a unique numerical value called a hash code.\n",
        "\n",
        "###Q5 Why might you use a set instead of a list in Python ?\n",
        "\n",
        "We,must use sets in place of lists since lists can have multiple same values but whereas in the sets repetition of the elements cannot happen only unique elements must be present\n",
        "\n",
        "###Q6 What is a string in Python, and how is it different from a list\n",
        "\n",
        "- String:\n",
        "\n",
        "A string is a sequence of characters, such as letters, numbers, and symbols, enclosed within single quotes ('...') or double quotes (\"...\").\n",
        "Strings are immutable, meaning they cannot be changed once created. Any operation that appears to modify a string actually creates a new string.\n",
        "Example: my_string = \"Hello, world!\"\n",
        "\n",
        "\n",
        "- List:\n",
        "\n",
        "A list is an ordered collection of items, which can be of any data type, including strings, numbers, and other lists.\n",
        "Lists are mutable, meaning you can change their contents after creation. You can add, remove, or modify elements within a list.\n",
        "Lists are defined using square brackets [...] with items separated by commas.\n",
        "Example: my_list = [1, 2, \"apple\", \"banana\"]\n",
        "\n",
        "###Q7  How do tuples ensure data integrity in Python ?\n",
        "\n",
        "- Immutability:\n",
        "\n",
        "The primary way tuples ensure data integrity is through their immutability. This means that once a tuple is created, its elements cannot be changed, added, or removed. This inherent property prevents accidental or unauthorized modifications to the data stored within a tuple."
      ],
      "metadata": {
        "id": "ikd1x0rCuZcC"
      }
    },
    {
      "cell_type": "markdown",
      "source": [
        "###Q8 What is a hash table, and how does it relate to dictionaries in Python ?\n",
        "\n",
        "- Hash Table\n",
        "\n",
        "A hash table is a data structure that stores data in key-value pairs, where each key is unique and is used to quickly access its corresponding value. It works by using a hash function to compute an index, also called a hash code, into an array of buckets or slots, from which the desired value can be found.\n",
        "\n",
        "- How Hash Tables Relate to Dictionaries\n",
        "\n",
        "In Python, dictionaries are implemented using hash tables. This means that when you create a dictionary, Python internally uses a hash table to store the key-value pairs. When you access a value using its key, Python uses the hash function to quickly locate the corresponding bucket in the hash table and retrieve the value.\n",
        "\n",
        "###Q9 Can lists contain different data types in Python ?\n",
        "Yes, we can contain different data types into lists basic function of lists is to store heterogenous datatypes\n",
        "\n",
        "Examples: list=[1,2.3,'hello',True,(1,2,3)]\n",
        "\n",
        "###Q10 Explain why strings are immutable in Python ?\n",
        "\n",
        "- Immutability\n",
        "\n",
        "Immutability means that once a string object is created, its contents cannot be changed. Any operation that appears to modify a string actually creates a new string object with the modified value, leaving the original string unchanged.\n",
        "###Q11 What advantages do dictionaries offer over lists for certain tasks ?\n",
        "\n",
        "Advantages of Dictionaries\n",
        "\n",
        "- Efficient Lookups: Dictionaries use hash tables, which allow for very fast lookups of values using their keys. The time complexity for average-case lookups is O(1), meaning it takes roughly the same amount of time to access a value regardless of the size of the dictionary. This makes dictionaries ideal for tasks where you need to frequently retrieve values based on their keys, such as storing and retrieving data from a database or implementing a cache.\n",
        "\n",
        "- Key-Value Association: Dictionaries store data in key-value pairs, which allows you to associate meaningful keys with their corresponding values. This makes dictionaries well-suited for representing structured data, such as configurations, settings, or user profiles.\n",
        "\n",
        "- Flexibility: Dictionaries can store data of different types, and their size can dynamically grow or shrink as needed. This flexibility makes them adaptable to various use cases.\n",
        "\n",
        "###Q12 Describe a scenario where using a tuple would be preferable over a list ?\n",
        "\n",
        " Why Tuple is Preferred\n",
        "\n",
        "- Immutability: Coordinates, once defined, usually remain constant. Tuples, being immutable, ensure that the coordinate values cannot be accidentally or intentionally modified after they are assigned. This immutability guarantees the integrity and reliability of the coordinate data.\n",
        "\n",
        "- Data Integrity: Since coordinates are often used in calculations and comparisons, it's crucial to maintain their consistency. Tuples, by virtue of their immutability, prevent unintended changes that could lead to errors or inconsistencies in location-based operations.\n",
        "\n",
        "- Semantic Clarity: Using a tuple to represent a coordinate conveys a clear meaning that the data is a fixed and unchangeable entity. This enhances code readability and makes it easier for others to understand the purpose and usage of the data.\n",
        "\n",
        "###Q13 How do sets handle duplicate values in Python ?\n",
        "\n",
        "How Duplicates are Handled\n",
        "\n",
        "- Hashing: Sets use hash tables to store their elements. When you add an element to a set, Python calculates its hash code and uses it to determine the element's position in the hash table.\n",
        "\n",
        "- Duplicate Detection: If an element with the same hash code already exists in the set, Python compares the two elements to confirm if they are identical. If they are duplicates, the new element is not added to the set.\n",
        "\n",
        "- Uniqueness Preservation: By using hash tables and duplicate detection, sets ensure that they only contain unique elements. This property is fundamental to the concept of sets and their applications in various programming tasks.\n",
        "\n",
        "###Q14 How does the “in” keyword work differently for lists and dictionaries ?\n",
        "\n",
        "- in Keyword for Lists\n",
        "\n",
        "When used with a list, the in keyword checks for membership, meaning it determines if a given element is present within the list. It iterates through each element of the list and compares it with the target element. If a match is found, it returns True; otherwise, it returns False.\n",
        "\n",
        "- in Keyword for Dictionaries\n",
        "\n",
        "When used with a dictionary, the in keyword checks for the presence of a key within the dictionary. It does not check for the presence of values. It essentially searches for the given key among the keys of the dictionary. If the key is found, it returns True; otherwise, it returns False.\n",
        "\n",
        "###Q15 Can you modify the elements of a tuple? Explain why or why not ?\n",
        "\n",
        "- Immutability of Tuples\n",
        "\n",
        "Tuples in Python are immutable, which means that once a tuple is created, its elements cannot be changed. This immutability is a fundamental characteristic of tuples and is one of the key distinctions between tuples and lists.\n",
        "\n",
        " Why Tuples are Immutable\n",
        "\n",
        "- Data Integrity: Immutability ensures that the data within a tuple remains constant and protected from accidental or intentional modifications. This is crucial for scenarios where data consistency and reliability are essential.\n",
        "\n",
        "- Hashing and Dictionary Keys: Tuples can be used as keys in dictionaries because they are hashable. Immutability is a prerequisite for hashability, as dictionary keys must remain constant to ensure proper functionality.\n",
        "\n",
        "- Performance Optimization: Immutability allows for certain performance optimizations, such as storing only one copy of each unique tuple in memory. This can save memory and improve execution speed.\n",
        "\n",
        "Consequences of Immutability\n",
        "\n",
        "Because tuples are immutable, you cannot directly modify their elements. Attempting to do so will result in a TypeError.\n",
        "\n",
        "###Q15 What is a nested dictionary, and give an example of its use case ?\n",
        "\n"
      ],
      "metadata": {
        "id": "mKNoM19_xC1n"
      }
    },
    {
      "cell_type": "code",
      "source": [
        "erp={\n",
        "    \"emp_details_1224\":{\"name\":\"xyz\",\"empid\":\"1224\",\"address\":\"xyz-ad1\"},\n",
        "    \"emp_details_1225\":{\"name\":\"xya\",\"empid\":\"1225\",\"address\":\"xyz-ad12\"}\n",
        "\n",
        "}\n",
        "print(erp)"
      ],
      "metadata": {
        "colab": {
          "base_uri": "https://localhost:8080/"
        },
        "id": "Y-BSU2k620dO",
        "outputId": "a45a8561-4d60-4087-a844-fdb158c65c62"
      },
      "execution_count": 5,
      "outputs": [
        {
          "output_type": "stream",
          "name": "stdout",
          "text": [
            "{'emp_details_1224': {'name': 'xyz', 'empid': '1224', 'address': 'xyz-ad1'}, 'emp_details_1225': {'name': 'xya', 'empid': '1225', 'address': 'xyz-ad12'}}\n"
          ]
        }
      ]
    },
    {
      "cell_type": "markdown",
      "source": [
        "###Q16 Describe the time complexity of accessing elements in a dictionary\n",
        "\n",
        "- Time Complexity of Dictionary Access\n",
        "\n",
        "Dictionaries in Python are implemented using hash tables, which provide efficient access to elements. The time complexity of accessing an element in a dictionary is typically O(1), also known as constant time. This means that the time it takes to access an element is independent of the size of the dictionary.\n",
        "\n",
        "###Q17  In what situations are lists preferred over dictionaries ?\n",
        "\n",
        "Advantages of lists over dictionaries is:\n",
        "\n",
        "- Order Preservation: Lists maintain the order of elements as they are added. This is crucial when the sequence of elements is important, such as when representing a series of events, steps in a process, or items in a queue.\n",
        "\n",
        "- Duplicate Values: Lists allow for duplicate values, which can be useful in cases where you need to store multiple occurrences of the same item, such as tracking inventory, representing votes in an election, or storing sensor readings.\n",
        "\n",
        "- Indexing and Slicing: Lists support indexing and slicing, allowing you to access elements by their position or retrieve a subset of elements. This is beneficial for tasks like iterating through a sequence of items, manipulating specific elements, or extracting portions of data.\n",
        "\n",
        "- Append and Insert Operations: Lists provide efficient methods for appending and inserting elements at the end or within the list. This makes them suitable for tasks like building a collection of items incrementally or dynamically adding data.\n",
        "\n",
        "###Q18 Why are dictionaries considered unordered, and how does that affect data retrieval ?\n",
        "\n",
        "- Unordered Nature of Dictionaries\n",
        "\n",
        "Dictionaries in Python are inherently unordered, meaning that the order in which key-value pairs are stored is not guaranteed to be the same as the order in which they were added. This unordered nature stems from the underlying implementation of dictionaries using hash tables.\n",
        "\n",
        "Impact on Data Retrieval\n",
        "\n",
        "The unordered nature of dictionaries affects data retrieval in the following ways:\n",
        "\n",
        "- No Guaranteed Order: When iterating through a dictionary using a for loop or methods like keys(), values(), or items(), the order in which elements are retrieved is not guaranteed to be consistent across different executions or after modifications to the dictionary.\n",
        "\n",
        "- Key-Based Access: Data retrieval in dictionaries is primarily based on keys, not positions. You access values using their corresponding keys, not by their order in the dictionary.\n",
        "\n",
        "- No Indexing or Slicing: Dictionaries do not support indexing or slicing like lists. You cannot access elements by their position or retrieve a subset of elements using slice notation.\n",
        "\n",
        "###Q19 Explain the difference between a list and a dictionary in terms of data retrieval\n",
        "\n",
        "Data Retrieval in Lists\n",
        "\n",
        "Lists store elements in a sequential order, and you retrieve elements by their position or index within the list. This is known as positional access.\n",
        "\n",
        "- Indexing: You can access individual elements using their index, starting from 0 for the first element. For example, my_list[2] would retrieve the third element of the list.\n",
        "\n",
        "- Slicing: You can retrieve a subset of elements using slice notation. For example, my_list[1:4] would retrieve elements from index 1 to 3.\n",
        "Data Retrieval in Dictionaries\n",
        "\n",
        "Dictionaries store data in key-value pairs, and you retrieve values by their corresponding keys. This is known as key-based access.\n",
        "\n",
        "- Key Lookup: You access values using their associated keys. For example, my_dict[\"apple\"] would retrieve the value associated with the key \"apple\".\n",
        "No Positional Access: Dictionaries do not support positional access using indices or slicing. You cannot retrieve elements based on their order in the dictionary."
      ],
      "metadata": {
        "id": "IIAZfRvW3cAR"
      }
    },
    {
      "cell_type": "code",
      "execution_count": null,
      "metadata": {
        "colab": {
          "base_uri": "https://localhost:8080/"
        },
        "id": "cmfHH2M5NZDc",
        "outputId": "15638a0b-9af4-4f31-c03e-39cb76c62ea0"
      },
      "outputs": [
        {
          "output_type": "stream",
          "name": "stdout",
          "text": [
            "Enter your name: Aditya\n",
            "Aditya\n"
          ]
        }
      ],
      "source": [
        "#1 Write a code to create a string with your name and print it\n",
        "yourName=input(\"Enter your name: \")\n",
        "print(yourName) #default input is a string"
      ]
    },
    {
      "cell_type": "code",
      "source": [
        "#2 Write a code to find the length of the string \"Hello World\"\n",
        "str1=\"Hello World\"\n",
        "countLength=0\n",
        "for i in str1:\n",
        "  countLength+=1\n",
        "\n",
        "print(countLength)\n",
        "#By default string has function of length\n",
        "print(len(str1))\n"
      ],
      "metadata": {
        "colab": {
          "base_uri": "https://localhost:8080/"
        },
        "id": "RZUP7faONxXs",
        "outputId": "324a8cfb-4ede-4823-9a87-d02f47d35995"
      },
      "execution_count": null,
      "outputs": [
        {
          "output_type": "stream",
          "name": "stdout",
          "text": [
            "11\n",
            "11\n"
          ]
        }
      ]
    },
    {
      "cell_type": "code",
      "source": [
        "#3 Write a code to slice the first 3 characters from the string \"Python Programming\"\n",
        "\n",
        "\n",
        "str1=\"Python Programming\"\n",
        "print(str1[0:3])"
      ],
      "metadata": {
        "colab": {
          "base_uri": "https://localhost:8080/"
        },
        "id": "qeSgSCTGOS5U",
        "outputId": "f5db99d6-ef63-46ba-9cdd-6549bf45ef23"
      },
      "execution_count": null,
      "outputs": [
        {
          "output_type": "stream",
          "name": "stdout",
          "text": [
            "Pyt\n"
          ]
        }
      ]
    },
    {
      "cell_type": "code",
      "source": [
        "#4 Write a code to convert the string \"hello\" to uppercase\n",
        "str1=\"hello\"\n",
        "print(str1.upper())"
      ],
      "metadata": {
        "colab": {
          "base_uri": "https://localhost:8080/"
        },
        "id": "fO-hjvRqOiTq",
        "outputId": "acb7283b-fd1d-453e-caa2-5ec1fcffef3e"
      },
      "execution_count": null,
      "outputs": [
        {
          "output_type": "stream",
          "name": "stdout",
          "text": [
            "HELLO\n"
          ]
        }
      ]
    },
    {
      "cell_type": "code",
      "source": [
        "#5 Write a code to replace the word \"apple\" with \"orange\" in the string \"I like apple\"\n",
        "str1=\"I like apple\"\n",
        "str1.replace(\"apple\",\"orange\")"
      ],
      "metadata": {
        "colab": {
          "base_uri": "https://localhost:8080/",
          "height": 36
        },
        "id": "OU3Mx1EWOr1X",
        "outputId": "59d98e9b-27f1-4b84-b71d-a89d954cdf66"
      },
      "execution_count": null,
      "outputs": [
        {
          "output_type": "execute_result",
          "data": {
            "text/plain": [
              "'I like orange'"
            ],
            "application/vnd.google.colaboratory.intrinsic+json": {
              "type": "string"
            }
          },
          "metadata": {},
          "execution_count": 10
        }
      ]
    },
    {
      "cell_type": "code",
      "source": [
        "#6 Write a code to create a list with numbers 1 to 5 and print it\n",
        "print(list(range(1,6)))"
      ],
      "metadata": {
        "colab": {
          "base_uri": "https://localhost:8080/"
        },
        "id": "Savw-D-LO7ex",
        "outputId": "eebe0064-5b90-406a-bba7-06f2741a3f8e"
      },
      "execution_count": null,
      "outputs": [
        {
          "output_type": "stream",
          "name": "stdout",
          "text": [
            "[1, 2, 3, 4, 5]\n"
          ]
        }
      ]
    },
    {
      "cell_type": "code",
      "source": [
        "#7 Write a code to append the number 10 to the list [1, 2, 3, 4]\n",
        "\n",
        "lis=[1,2,3,4]\n",
        "lis.append(10)\n",
        "print(lis)\n"
      ],
      "metadata": {
        "colab": {
          "base_uri": "https://localhost:8080/"
        },
        "id": "Zp61NkvVPBOX",
        "outputId": "d6e0bcf1-1377-46e4-c798-64d702650681"
      },
      "execution_count": null,
      "outputs": [
        {
          "output_type": "stream",
          "name": "stdout",
          "text": [
            "[1, 2, 3, 4, 10]\n"
          ]
        }
      ]
    },
    {
      "cell_type": "code",
      "source": [
        "#8 Write a code to remove the number 3 from the list [1, 2, 3, 4, 5]\n",
        "lis=[1,2,3,4,5]\n",
        "lis.remove(3)\n",
        "print(lis)"
      ],
      "metadata": {
        "colab": {
          "base_uri": "https://localhost:8080/"
        },
        "id": "D2-fxJlAPQ-_",
        "outputId": "0ea1b94c-7ed7-4604-901a-cec71266568b"
      },
      "execution_count": null,
      "outputs": [
        {
          "output_type": "stream",
          "name": "stdout",
          "text": [
            "[1, 2, 4, 5]\n"
          ]
        }
      ]
    },
    {
      "cell_type": "code",
      "source": [
        "#9 Write a code to access the second element in the list ['a', 'b', 'c', 'd']\n",
        "lis=['a','b','c','d']\n",
        "print(lis[1])"
      ],
      "metadata": {
        "colab": {
          "base_uri": "https://localhost:8080/"
        },
        "id": "JK1ilap6Pcz8",
        "outputId": "172a85f6-71cd-437d-e99c-2463cebf1f6c"
      },
      "execution_count": null,
      "outputs": [
        {
          "output_type": "stream",
          "name": "stdout",
          "text": [
            "b\n"
          ]
        }
      ]
    },
    {
      "cell_type": "code",
      "source": [
        "#10 Write a code to reverse the list [10, 20, 30, 40, 50]\n",
        "lis=[10,20,30,40,50]\n",
        "print(lis[len(lis)::-1])\n"
      ],
      "metadata": {
        "colab": {
          "base_uri": "https://localhost:8080/"
        },
        "id": "E2qGA-9JPlQK",
        "outputId": "6e6f8652-5087-4130-8acb-bc385d04a886"
      },
      "execution_count": null,
      "outputs": [
        {
          "output_type": "stream",
          "name": "stdout",
          "text": [
            "[50, 40, 30, 20, 10]\n"
          ]
        }
      ]
    },
    {
      "cell_type": "code",
      "source": [
        "#11  Write a code to create a tuple with the elements 10, 20, 30 and print it\n",
        "lis=[10,20,30]\n",
        "tup1=tuple(lis)\n",
        "print(tup1)"
      ],
      "metadata": {
        "colab": {
          "base_uri": "https://localhost:8080/"
        },
        "id": "a7hFqEeTQErO",
        "outputId": "64478235-ab66-4e8c-9720-472ca8eed13e"
      },
      "execution_count": null,
      "outputs": [
        {
          "output_type": "stream",
          "name": "stdout",
          "text": [
            "(10, 20, 30)\n"
          ]
        }
      ]
    },
    {
      "cell_type": "code",
      "source": [
        "#12 Write a code to access the first element of the tuple ('apple', 'banana', 'cherry').\n",
        "\n",
        "tup1=('apple','banana','cherry')\n",
        "print(tup1[0])"
      ],
      "metadata": {
        "colab": {
          "base_uri": "https://localhost:8080/"
        },
        "id": "WU5-X3z-QVCF",
        "outputId": "0de4b72f-6240-4018-8c0f-c9110babc50b"
      },
      "execution_count": null,
      "outputs": [
        {
          "output_type": "stream",
          "name": "stdout",
          "text": [
            "apple\n"
          ]
        }
      ]
    },
    {
      "cell_type": "code",
      "source": [
        "#13  Write a code to count how many times the number 2 appears in the tuple (1, 2, 3, 2, 4, 2).\n",
        "tup1=(1, 2, 3, 2, 4, 2)\n",
        "print(tup1.count(2))"
      ],
      "metadata": {
        "colab": {
          "base_uri": "https://localhost:8080/"
        },
        "id": "G9P4EXmXQgYa",
        "outputId": "0f68bc8c-3ff2-4297-b5cc-24f93d4c58bd"
      },
      "execution_count": null,
      "outputs": [
        {
          "output_type": "stream",
          "name": "stdout",
          "text": [
            "3\n"
          ]
        }
      ]
    },
    {
      "cell_type": "code",
      "source": [
        "#14  Write a code to find the index of the element \"cat\" in the tuple ('dog', 'cat', 'rabbit')\n",
        "tup1=('dog', 'cat', 'rabbit')\n",
        "tup1.index('cat')"
      ],
      "metadata": {
        "colab": {
          "base_uri": "https://localhost:8080/"
        },
        "id": "y_N0u6XeQtW8",
        "outputId": "8f740670-3032-4f98-b2b9-a00963365d9a"
      },
      "execution_count": null,
      "outputs": [
        {
          "output_type": "execute_result",
          "data": {
            "text/plain": [
              "1"
            ]
          },
          "metadata": {},
          "execution_count": 33
        }
      ]
    },
    {
      "cell_type": "code",
      "source": [
        "#15 Write a code to check if the element \"banana\" is in the tuple ('apple', 'orange', 'banana')\n",
        "tup1=('apple','orange','banana')\n",
        "print('banana' in tup1)\n"
      ],
      "metadata": {
        "colab": {
          "base_uri": "https://localhost:8080/"
        },
        "id": "8YvIJ_Z1Q7jT",
        "outputId": "bf4d8e5d-a2f2-4770-923d-193ee12612a3"
      },
      "execution_count": null,
      "outputs": [
        {
          "output_type": "stream",
          "name": "stdout",
          "text": [
            "True\n"
          ]
        }
      ]
    },
    {
      "cell_type": "code",
      "source": [
        "#16 Write a code to create a set with the elements 1, 2, 3, 4, 5 and print it.\n",
        "lis=list(range(1,6))\n",
        "set1=set(lis)\n",
        "print(set1)"
      ],
      "metadata": {
        "colab": {
          "base_uri": "https://localhost:8080/"
        },
        "id": "XiEu95H3RWcn",
        "outputId": "0782ee36-9ec3-4b0d-8b55-8237d647e254"
      },
      "execution_count": null,
      "outputs": [
        {
          "output_type": "stream",
          "name": "stdout",
          "text": [
            "{1, 2, 3, 4, 5}\n"
          ]
        }
      ]
    },
    {
      "cell_type": "code",
      "source": [
        "#17 Write a code to add the element 6 to the set {1, 2, 3, 4}\n",
        "set1={1,2,3,4}\n",
        "set1.add(6)\n",
        "set1"
      ],
      "metadata": {
        "colab": {
          "base_uri": "https://localhost:8080/"
        },
        "id": "TwAu8tosRnds",
        "outputId": "6ef2068a-e83d-4659-ca16-6bb94d4e2e26"
      },
      "execution_count": null,
      "outputs": [
        {
          "output_type": "execute_result",
          "data": {
            "text/plain": [
              "{1, 2, 3, 4, 6}"
            ]
          },
          "metadata": {},
          "execution_count": 43
        }
      ]
    },
    {
      "cell_type": "code",
      "source": [
        "#18  Write a code to create a tuple with the elements 10, 20, 30 and print it\n",
        "tup1=tuple(range(10,40,10))\n",
        "print(tup1)"
      ],
      "metadata": {
        "colab": {
          "base_uri": "https://localhost:8080/"
        },
        "id": "hiP-xew2RzTo",
        "outputId": "3d7896f1-e054-4651-fb05-1d63ee12249a"
      },
      "execution_count": null,
      "outputs": [
        {
          "output_type": "stream",
          "name": "stdout",
          "text": [
            "(10, 20, 30)\n"
          ]
        }
      ]
    },
    {
      "cell_type": "code",
      "source": [
        "#19 Write a code to access the first element of the tuple ('apple', 'banana', 'cherry').\n",
        "tup1=('apple', 'banana', 'cherry')\n",
        "print(tup1[0])"
      ],
      "metadata": {
        "colab": {
          "base_uri": "https://localhost:8080/"
        },
        "id": "EfIn1BTkSG0q",
        "outputId": "528b5ee1-fce8-47c4-cc7d-5582d2843b88"
      },
      "execution_count": null,
      "outputs": [
        {
          "output_type": "stream",
          "name": "stdout",
          "text": [
            "apple\n"
          ]
        }
      ]
    },
    {
      "cell_type": "code",
      "source": [
        "#20 Write a code to count how many times the number 2 appears in the tuple (1, 2, 3, 2, 4, 2)\n",
        "tup1 = (1, 2, 3, 2, 4, 2)\n",
        "print(tup1.count(2))"
      ],
      "metadata": {
        "colab": {
          "base_uri": "https://localhost:8080/"
        },
        "id": "R4AX63EhSTHp",
        "outputId": "15d46871-5e6d-42c8-e5a4-ffb0e4ce6e4f"
      },
      "execution_count": null,
      "outputs": [
        {
          "output_type": "stream",
          "name": "stdout",
          "text": [
            "3\n"
          ]
        }
      ]
    },
    {
      "cell_type": "code",
      "source": [
        "#21 Write a code to find the index of the element \"cat\" in the tuple ('dog', 'cat', 'rabbit').\n",
        "\n",
        "tup1=('dog','cat','rabbit')\n",
        "print(tup1.index('cat'))"
      ],
      "metadata": {
        "colab": {
          "base_uri": "https://localhost:8080/"
        },
        "id": "BVstvWm9Sc1O",
        "outputId": "7efd68bd-71cc-45e4-8e5b-91528fef932a"
      },
      "execution_count": null,
      "outputs": [
        {
          "output_type": "stream",
          "name": "stdout",
          "text": [
            "1\n"
          ]
        }
      ]
    },
    {
      "cell_type": "code",
      "source": [
        "#22 Write a code to check if the element \"banana\" is in the tuple ('apple', 'orange', 'banana').\n",
        "tup1=('apple', 'orange', 'banana')\n",
        "print('banana' in tup1)"
      ],
      "metadata": {
        "colab": {
          "base_uri": "https://localhost:8080/"
        },
        "id": "MudGSC2ESpF_",
        "outputId": "51787853-74e7-4593-cbf6-db508a578821"
      },
      "execution_count": null,
      "outputs": [
        {
          "output_type": "stream",
          "name": "stdout",
          "text": [
            "True\n"
          ]
        }
      ]
    },
    {
      "cell_type": "code",
      "source": [
        "#23  Write a code to create a set with the elements 1, 2, 3, 4, 5 and print it.\n",
        "set1=set(range(1,6))\n",
        "print(set1)"
      ],
      "metadata": {
        "colab": {
          "base_uri": "https://localhost:8080/"
        },
        "id": "v8h3i8s7SyoU",
        "outputId": "d2bf20bb-0102-4ee6-fb57-190ddd913195"
      },
      "execution_count": null,
      "outputs": [
        {
          "output_type": "stream",
          "name": "stdout",
          "text": [
            "{1, 2, 3, 4, 5}\n"
          ]
        }
      ]
    },
    {
      "cell_type": "code",
      "source": [
        "#24 Write a code to add the element 6 to the set {1, 2, 3, 4}.\n",
        "set1=set(range(1,5))\n",
        "set1.add(6)\n",
        "print(set1)"
      ],
      "metadata": {
        "colab": {
          "base_uri": "https://localhost:8080/"
        },
        "id": "guquiWxoS6CS",
        "outputId": "296d7ce6-2fcf-4d88-9562-f78e49f1f6b4"
      },
      "execution_count": null,
      "outputs": [
        {
          "output_type": "stream",
          "name": "stdout",
          "text": [
            "{1, 2, 3, 4, 6}\n"
          ]
        }
      ]
    }
  ]
}